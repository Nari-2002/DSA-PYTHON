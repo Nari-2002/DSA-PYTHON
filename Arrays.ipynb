{
 "cells": [
  {
   "cell_type": "code",
   "execution_count": 1,
   "id": "809e0d13-51bc-4e47-b5e8-8d0494b90fc7",
   "metadata": {},
   "outputs": [],
   "source": [
    "from array import *"
   ]
  },
  {
   "cell_type": "code",
   "execution_count": 3,
   "id": "660832e6-e724-4000-8230-3dba6fecfe59",
   "metadata": {},
   "outputs": [
    {
     "data": {
      "text/plain": [
       "array('i', [1, 2, 3, 4])"
      ]
     },
     "execution_count": 3,
     "metadata": {},
     "output_type": "execute_result"
    }
   ],
   "source": [
    "a=array('i',[1,2,3,4])\n",
    "a"
   ]
  },
  {
   "cell_type": "code",
   "execution_count": 5,
   "id": "53a81e07-9456-44f8-9297-70040ff98349",
   "metadata": {},
   "outputs": [
    {
     "name": "stdout",
     "output_type": "stream",
     "text": [
      "1\n",
      "2\n",
      "3\n",
      "4\n"
     ]
    }
   ],
   "source": [
    "for i in range(0,len(a)):\n",
    "    print(a[i])"
   ]
  },
  {
   "cell_type": "code",
   "execution_count": 15,
   "id": "1a5a2414-f3df-486f-b290-afc8e958ad1c",
   "metadata": {},
   "outputs": [],
   "source": [
    "a.insert(1,4)"
   ]
  },
  {
   "cell_type": "code",
   "execution_count": 17,
   "id": "422362e9-e337-4ce3-81cf-62333cbbfa2a",
   "metadata": {},
   "outputs": [
    {
     "data": {
      "text/plain": [
       "array('i', [1, 4, 2, 3])"
      ]
     },
     "execution_count": 17,
     "metadata": {},
     "output_type": "execute_result"
    }
   ],
   "source": [
    "a"
   ]
  },
  {
   "cell_type": "code",
   "execution_count": 18,
   "id": "7a93ddaa-8d56-41ba-bdc7-875c13e0cfcc",
   "metadata": {},
   "outputs": [
    {
     "data": {
      "text/plain": [
       "array('i', [1, 2, 3])"
      ]
     },
     "execution_count": 18,
     "metadata": {},
     "output_type": "execute_result"
    }
   ],
   "source": [
    "a.remove(4)\n",
    "a\n"
   ]
  },
  {
   "cell_type": "code",
   "execution_count": 20,
   "id": "7d332de1-1021-4368-bbe8-fffbf03faa5c",
   "metadata": {},
   "outputs": [
    {
     "name": "stdout",
     "output_type": "stream",
     "text": [
      "Help on class array in module array:\n",
      "\n",
      "class array(builtins.object)\n",
      " |  array(typecode [, initializer]) -> array\n",
      " |  \n",
      " |  Return a new array whose items are restricted by typecode, and\n",
      " |  initialized from the optional initializer value, which must be a list,\n",
      " |  string or iterable over elements of the appropriate type.\n",
      " |  \n",
      " |  Arrays represent basic values and behave very much like lists, except\n",
      " |  the type of objects stored in them is constrained. The type is specified\n",
      " |  at object creation time by using a type code, which is a single character.\n",
      " |  The following type codes are defined:\n",
      " |  \n",
      " |      Type code   C Type             Minimum size in bytes\n",
      " |      'b'         signed integer     1\n",
      " |      'B'         unsigned integer   1\n",
      " |      'u'         Unicode character  2 (see note)\n",
      " |      'h'         signed integer     2\n",
      " |      'H'         unsigned integer   2\n",
      " |      'i'         signed integer     2\n",
      " |      'I'         unsigned integer   2\n",
      " |      'l'         signed integer     4\n",
      " |      'L'         unsigned integer   4\n",
      " |      'q'         signed integer     8 (see note)\n",
      " |      'Q'         unsigned integer   8 (see note)\n",
      " |      'f'         floating point     4\n",
      " |      'd'         floating point     8\n",
      " |  \n",
      " |  NOTE: The 'u' typecode corresponds to Python's unicode character. On\n",
      " |  narrow builds this is 2-bytes on wide builds this is 4-bytes.\n",
      " |  \n",
      " |  NOTE: The 'q' and 'Q' type codes are only available if the platform\n",
      " |  C compiler used to build Python supports 'long long', or, on Windows,\n",
      " |  '__int64'.\n",
      " |  \n",
      " |  Methods:\n",
      " |  \n",
      " |  append() -- append a new item to the end of the array\n",
      " |  buffer_info() -- return information giving the current memory info\n",
      " |  byteswap() -- byteswap all the items of the array\n",
      " |  count() -- return number of occurrences of an object\n",
      " |  extend() -- extend array by appending multiple elements from an iterable\n",
      " |  fromfile() -- read items from a file object\n",
      " |  fromlist() -- append items from the list\n",
      " |  frombytes() -- append items from the string\n",
      " |  index() -- return index of first occurrence of an object\n",
      " |  insert() -- insert a new item into the array at a provided position\n",
      " |  pop() -- remove and return item (default last)\n",
      " |  remove() -- remove first occurrence of an object\n",
      " |  reverse() -- reverse the order of the items in the array\n",
      " |  tofile() -- write all items to a file object\n",
      " |  tolist() -- return the array converted to an ordinary list\n",
      " |  tobytes() -- return the array converted to a string\n",
      " |  \n",
      " |  Attributes:\n",
      " |  \n",
      " |  typecode -- the typecode character used to create the array\n",
      " |  itemsize -- the length in bytes of one array item\n",
      " |  \n",
      " |  Methods defined here:\n",
      " |  \n",
      " |  __add__(self, value, /)\n",
      " |      Return self+value.\n",
      " |  \n",
      " |  __contains__(self, key, /)\n",
      " |      Return key in self.\n",
      " |  \n",
      " |  __copy__(self, /)\n",
      " |      Return a copy of the array.\n",
      " |  \n",
      " |  __deepcopy__(self, unused, /)\n",
      " |      Return a copy of the array.\n",
      " |  \n",
      " |  __delitem__(self, key, /)\n",
      " |      Delete self[key].\n",
      " |  \n",
      " |  __eq__(self, value, /)\n",
      " |      Return self==value.\n",
      " |  \n",
      " |  __ge__(self, value, /)\n",
      " |      Return self>=value.\n",
      " |  \n",
      " |  __getattribute__(self, name, /)\n",
      " |      Return getattr(self, name).\n",
      " |  \n",
      " |  __getitem__(self, key, /)\n",
      " |      Return self[key].\n",
      " |  \n",
      " |  __gt__(self, value, /)\n",
      " |      Return self>value.\n",
      " |  \n",
      " |  __iadd__(self, value, /)\n",
      " |      Implement self+=value.\n",
      " |  \n",
      " |  __imul__(self, value, /)\n",
      " |      Implement self*=value.\n",
      " |  \n",
      " |  __iter__(self, /)\n",
      " |      Implement iter(self).\n",
      " |  \n",
      " |  __le__(self, value, /)\n",
      " |      Return self<=value.\n",
      " |  \n",
      " |  __len__(self, /)\n",
      " |      Return len(self).\n",
      " |  \n",
      " |  __lt__(self, value, /)\n",
      " |      Return self<value.\n",
      " |  \n",
      " |  __mul__(self, value, /)\n",
      " |      Return self*value.\n",
      " |  \n",
      " |  __ne__(self, value, /)\n",
      " |      Return self!=value.\n",
      " |  \n",
      " |  __reduce_ex__(self, value, /)\n",
      " |      Return state information for pickling.\n",
      " |  \n",
      " |  __repr__(self, /)\n",
      " |      Return repr(self).\n",
      " |  \n",
      " |  __rmul__(self, value, /)\n",
      " |      Return value*self.\n",
      " |  \n",
      " |  __setitem__(self, key, value, /)\n",
      " |      Set self[key] to value.\n",
      " |  \n",
      " |  __sizeof__(self, /)\n",
      " |      Size of the array in memory, in bytes.\n",
      " |  \n",
      " |  append(self, v, /)\n",
      " |      Append new value v to the end of the array.\n",
      " |  \n",
      " |  buffer_info(self, /)\n",
      " |      Return a tuple (address, length) giving the current memory address and the length in items of the buffer used to hold array's contents.\n",
      " |      \n",
      " |      The length should be multiplied by the itemsize attribute to calculate\n",
      " |      the buffer length in bytes.\n",
      " |  \n",
      " |  byteswap(self, /)\n",
      " |      Byteswap all items of the array.\n",
      " |      \n",
      " |      If the items in the array are not 1, 2, 4, or 8 bytes in size, RuntimeError is\n",
      " |      raised.\n",
      " |  \n",
      " |  count(self, v, /)\n",
      " |      Return number of occurrences of v in the array.\n",
      " |  \n",
      " |  extend(self, bb, /)\n",
      " |      Append items to the end of the array.\n",
      " |  \n",
      " |  frombytes(self, buffer, /)\n",
      " |      Appends items from the string, interpreting it as an array of machine values, as if it had been read from a file using the fromfile() method).\n",
      " |  \n",
      " |  fromfile(self, f, n, /)\n",
      " |      Read n objects from the file object f and append them to the end of the array.\n",
      " |  \n",
      " |  fromlist(self, list, /)\n",
      " |      Append items to array from list.\n",
      " |  \n",
      " |  fromstring(self, buffer, /)\n",
      " |      Appends items from the string, interpreting it as an array of machine values, as if it had been read from a file using the fromfile() method).\n",
      " |      \n",
      " |      This method is deprecated. Use frombytes instead.\n",
      " |  \n",
      " |  fromunicode(self, ustr, /)\n",
      " |      Extends this array with data from the unicode string ustr.\n",
      " |      \n",
      " |      The array must be a unicode type array; otherwise a ValueError is raised.\n",
      " |      Use array.frombytes(ustr.encode(...)) to append Unicode data to an array of\n",
      " |      some other type.\n",
      " |  \n",
      " |  index(self, v, /)\n",
      " |      Return index of first occurrence of v in the array.\n",
      " |  \n",
      " |  insert(self, i, v, /)\n",
      " |      Insert a new item v into the array before position i.\n",
      " |  \n",
      " |  pop(self, i=-1, /)\n",
      " |      Return the i-th element and delete it from the array.\n",
      " |      \n",
      " |      i defaults to -1.\n",
      " |  \n",
      " |  remove(self, v, /)\n",
      " |      Remove the first occurrence of v in the array.\n",
      " |  \n",
      " |  reverse(self, /)\n",
      " |      Reverse the order of the items in the array.\n",
      " |  \n",
      " |  tobytes(self, /)\n",
      " |      Convert the array to an array of machine values and return the bytes representation.\n",
      " |  \n",
      " |  tofile(self, f, /)\n",
      " |      Write all items (as machine values) to the file object f.\n",
      " |  \n",
      " |  tolist(self, /)\n",
      " |      Convert array to an ordinary list with the same items.\n",
      " |  \n",
      " |  tostring(self, /)\n",
      " |      Convert the array to an array of machine values and return the bytes representation.\n",
      " |      \n",
      " |      This method is deprecated. Use tobytes instead.\n",
      " |  \n",
      " |  tounicode(self, /)\n",
      " |      Extends this array with data from the unicode string ustr.\n",
      " |      \n",
      " |      Convert the array to a unicode string.  The array must be a unicode type array;\n",
      " |      otherwise a ValueError is raised.  Use array.tobytes().decode() to obtain a\n",
      " |      unicode string from an array of some other type.\n",
      " |  \n",
      " |  ----------------------------------------------------------------------\n",
      " |  Static methods defined here:\n",
      " |  \n",
      " |  __new__(*args, **kwargs) from builtins.type\n",
      " |      Create and return a new object.  See help(type) for accurate signature.\n",
      " |  \n",
      " |  ----------------------------------------------------------------------\n",
      " |  Data descriptors defined here:\n",
      " |  \n",
      " |  itemsize\n",
      " |      the size, in bytes, of one array item\n",
      " |  \n",
      " |  typecode\n",
      " |      the typecode character used to create the array\n",
      " |  \n",
      " |  ----------------------------------------------------------------------\n",
      " |  Data and other attributes defined here:\n",
      " |  \n",
      " |  __hash__ = None\n",
      "\n"
     ]
    },
    {
     "data": {
      "text/plain": [
       "1"
      ]
     },
     "execution_count": 20,
     "metadata": {},
     "output_type": "execute_result"
    }
   ],
   "source": [
    "help(array)\n",
    "a.count(1)"
   ]
  },
  {
   "cell_type": "code",
   "execution_count": 39,
   "id": "01c7f325-de01-4be7-9628-b853bead2823",
   "metadata": {},
   "outputs": [
    {
     "data": {
      "text/plain": [
       "array('i', [1, 2, 3, 4, 5])"
      ]
     },
     "execution_count": 39,
     "metadata": {},
     "output_type": "execute_result"
    }
   ],
   "source": [
    "l=[1,2,3,4,5]\n",
    "b=array('i')\n",
    "b.fromlist(l)\n",
    "b"
   ]
  },
  {
   "cell_type": "code",
   "execution_count": 44,
   "id": "bdfc2d42-1989-4627-a79b-a3920f8b431c",
   "metadata": {},
   "outputs": [
    {
     "data": {
      "text/plain": [
       "[1, 2, 3, 4, 5]"
      ]
     },
     "execution_count": 44,
     "metadata": {},
     "output_type": "execute_result"
    }
   ],
   "source": [
    "l1=b.tolist()\n",
    "l1"
   ]
  },
  {
   "cell_type": "code",
   "execution_count": 45,
   "id": "923cb07e-cb35-42ea-9d41-725608bde560",
   "metadata": {},
   "outputs": [
    {
     "data": {
      "text/plain": [
       "5"
      ]
     },
     "execution_count": 45,
     "metadata": {},
     "output_type": "execute_result"
    }
   ],
   "source": [
    "b.pop()"
   ]
  },
  {
   "cell_type": "code",
   "execution_count": 47,
   "id": "423ced5e-e79c-43bd-839e-3c0dcabeb281",
   "metadata": {},
   "outputs": [],
   "source": [
    "b.remove(1)"
   ]
  },
  {
   "cell_type": "code",
   "execution_count": 48,
   "id": "9adc72aa-ed49-4c30-9fb3-9efab41c204b",
   "metadata": {},
   "outputs": [
    {
     "data": {
      "text/plain": [
       "array('i', [2, 3, 4])"
      ]
     },
     "execution_count": 48,
     "metadata": {},
     "output_type": "execute_result"
    }
   ],
   "source": [
    "b"
   ]
  },
  {
   "cell_type": "code",
   "execution_count": 52,
   "id": "682c68e8-e369-4198-9adb-4f232378f70a",
   "metadata": {},
   "outputs": [],
   "source": [
    "b.append(1)"
   ]
  },
  {
   "cell_type": "code",
   "execution_count": 53,
   "id": "9723369b-6f94-4479-a6d2-d94b1834448b",
   "metadata": {},
   "outputs": [
    {
     "data": {
      "text/plain": [
       "array('i', [2, 3, 4, 1])"
      ]
     },
     "execution_count": 53,
     "metadata": {},
     "output_type": "execute_result"
    }
   ],
   "source": [
    "b"
   ]
  },
  {
   "cell_type": "code",
   "execution_count": 54,
   "id": "46f4dd65-efab-49fa-a38d-577db0641fc8",
   "metadata": {},
   "outputs": [],
   "source": [
    "b.extend([1,2])"
   ]
  },
  {
   "cell_type": "code",
   "execution_count": 55,
   "id": "a3572f9d-ef25-4957-bb61-83cd4e70b7b2",
   "metadata": {},
   "outputs": [
    {
     "data": {
      "text/plain": [
       "array('i', [2, 3, 4, 1, 1, 2])"
      ]
     },
     "execution_count": 55,
     "metadata": {},
     "output_type": "execute_result"
    }
   ],
   "source": [
    "b"
   ]
  },
  {
   "cell_type": "code",
   "execution_count": 56,
   "id": "1f80b03d-9888-4f11-806e-2d47087c101e",
   "metadata": {},
   "outputs": [],
   "source": [
    "b.extend(a)"
   ]
  },
  {
   "cell_type": "code",
   "execution_count": 57,
   "id": "636a9521-7c1b-40e5-8ed5-8639e77a8ce4",
   "metadata": {},
   "outputs": [
    {
     "data": {
      "text/plain": [
       "array('i', [2, 3, 4, 1, 1, 2, 1, 2, 3])"
      ]
     },
     "execution_count": 57,
     "metadata": {},
     "output_type": "execute_result"
    }
   ],
   "source": [
    "b"
   ]
  },
  {
   "cell_type": "code",
   "execution_count": 58,
   "id": "22fe02f2-77db-477a-9cac-01e2f40c54a6",
   "metadata": {},
   "outputs": [],
   "source": [
    "b.remove(1)"
   ]
  },
  {
   "cell_type": "code",
   "execution_count": 59,
   "id": "8797ad18-6cb8-43ba-b645-757e1387a2d2",
   "metadata": {},
   "outputs": [
    {
     "data": {
      "text/plain": [
       "array('i', [2, 3, 4, 1, 2, 1, 2, 3])"
      ]
     },
     "execution_count": 59,
     "metadata": {},
     "output_type": "execute_result"
    }
   ],
   "source": [
    "b"
   ]
  },
  {
   "cell_type": "code",
   "execution_count": 60,
   "id": "fdbebdb2-acdc-4382-84b3-1df4e5cb19f5",
   "metadata": {},
   "outputs": [],
   "source": [
    "b.reverse()"
   ]
  },
  {
   "cell_type": "code",
   "execution_count": 61,
   "id": "0a88656d-9053-4911-81c8-e18ad402a283",
   "metadata": {},
   "outputs": [
    {
     "data": {
      "text/plain": [
       "array('i', [3, 2, 1, 2, 1, 4, 3, 2])"
      ]
     },
     "execution_count": 61,
     "metadata": {},
     "output_type": "execute_result"
    }
   ],
   "source": [
    "b"
   ]
  },
  {
   "cell_type": "code",
   "execution_count": 62,
   "id": "9bd9571e-52bb-435f-9260-ff94d107a03c",
   "metadata": {},
   "outputs": [
    {
     "data": {
      "text/plain": [
       "1"
      ]
     },
     "execution_count": 62,
     "metadata": {},
     "output_type": "execute_result"
    }
   ],
   "source": [
    "#search\n",
    "b.index(2)"
   ]
  },
  {
   "cell_type": "code",
   "execution_count": 72,
   "id": "b66f517e-05f9-47d6-ba9c-aeb45979b440",
   "metadata": {},
   "outputs": [
    {
     "name": "stdout",
     "output_type": "stream",
     "text": [
      "0\n"
     ]
    }
   ],
   "source": [
    "#linear search\n",
    "k=3\n",
    "for i in range(0,len(b)):\n",
    "    if b[i]==k:\n",
    "        print(i)\n",
    "        break\n",
    "else:\n",
    "    print(\"not found\")"
   ]
  },
  {
   "cell_type": "code",
   "execution_count": 83,
   "id": "9eedb52d-0b66-4925-af15-ea75cbd9956d",
   "metadata": {},
   "outputs": [
    {
     "name": "stdout",
     "output_type": "stream",
     "text": [
      "5\n"
     ]
    }
   ],
   "source": [
    "#binary search\n",
    "b=array('i',[1,2,3,4,5,6])\n",
    "k=6\n",
    "l=0\n",
    "h=len(b)-1\n",
    "while l<=h:\n",
    "    m=(l+h)//2\n",
    "    if b[m]==k:\n",
    "        print(m)\n",
    "        break\n",
    "    elif b[m]<k:\n",
    "        l=m+1\n",
    "    else:\n",
    "        h=m-1\n",
    "else:\n",
    "    print(\"not found\")\n",
    "\n",
    "        "
   ]
  },
  {
   "cell_type": "code",
   "execution_count": 85,
   "id": "9c7c17dc-1c1d-4708-8d12-fff0aef7512c",
   "metadata": {},
   "outputs": [
    {
     "name": "stdout",
     "output_type": "stream",
     "text": [
      "array('i', [1, 1, 2, 2, 3, 3, 4, 5, 6])\n"
     ]
    }
   ],
   "source": [
    "#selection sort\n",
    "b=array('i',[1,2,3,4,5,6,2,1,3])\n",
    "def selection_sort(b):\n",
    "    for i in range(len(b)-1):\n",
    "        min=i\n",
    "        for j in range(i+1,len(b)):\n",
    "            if b[j]<b[min]:\n",
    "                min=j\n",
    "        b[i],b[min]=b[min],b[i]\n",
    "    print(b)\n",
    "selection_sort(b)"
   ]
  },
  {
   "cell_type": "code",
   "execution_count": 94,
   "id": "edde4840-507a-4591-aab4-8277bd692a47",
   "metadata": {},
   "outputs": [
    {
     "name": "stdout",
     "output_type": "stream",
     "text": [
      "array('i', [1, 1, 2, 2, 3, 3, 4, 5, 6])\n"
     ]
    }
   ],
   "source": [
    "#recurssive selection sort\n",
    "b=array('i',[1,2,3,4,5,6,2,1,3])\n",
    "def minIdx(a,i,j):\n",
    "    if i==j:\n",
    "        return i\n",
    "    k=minIdx(a,i+1,j)\n",
    "    return (i if a[i]<a[k] else k)\n",
    "def selecsort(a,n,idx=0):\n",
    "    if idx==n:\n",
    "        return \n",
    "    k=minIdx(a,idx,n-1)\n",
    "    a[k],a[idx]=a[idx],a[k]\n",
    "    selecsort(a,n,idx+1)\n",
    "    \n",
    "selecsort(b,len(b))\n",
    "print(b)\n",
    "\n",
    "    \n",
    "    "
   ]
  },
  {
   "cell_type": "code",
   "execution_count": 99,
   "id": "68c5f148-d857-4d7b-ada5-5c2855f46ec5",
   "metadata": {},
   "outputs": [
    {
     "name": "stdout",
     "output_type": "stream",
     "text": [
      "array('i', [1, 1, 2, 2, 3, 3, 4, 5, 6])\n"
     ]
    }
   ],
   "source": [
    "#bubble sort\n",
    "def bubble_sort(a,n):\n",
    "    for i in range(n-1):\n",
    "        for j in range(n-i-1):\n",
    "            if a[j]>a[j+1]:\n",
    "                a[j],a[j+1]=a[j+1],a[j]\n",
    "    print(a)\n",
    "b=array('i',[1,2,3,4,5,6,2,1,3])\n",
    "bubble_sort(b,len(b))"
   ]
  },
  {
   "cell_type": "code",
   "execution_count": 100,
   "id": "eb5bb1c0-1693-4421-9b39-a27d654e39d1",
   "metadata": {},
   "outputs": [
    {
     "name": "stdout",
     "output_type": "stream",
     "text": [
      "array('i', [1, 1, 2, 2, 3, 3, 4, 5, 6])\n"
     ]
    }
   ],
   "source": [
    "#recurssive bubble sort\n",
    "def rec_bub_sort(a,n):\n",
    "    if n==1:\n",
    "        return\n",
    "    for i in range(n-1):\n",
    "        if a[i]>a[i+1]:\n",
    "            a[i],a[i+1]=a[i+1],a[i]\n",
    "    rec_bub_sort(a,n-1)\n",
    "b=array('i',[1,2,3,4,5,6,2,1,3])\n",
    "rec_bub_sort(b,len(b))\n",
    "print(b)"
   ]
  },
  {
   "cell_type": "code",
   "execution_count": 106,
   "id": "7901afa8-27f0-4ba1-a282-f98e53909121",
   "metadata": {},
   "outputs": [
    {
     "name": "stdout",
     "output_type": "stream",
     "text": [
      "array('i', [1, 1, 2, 2, 3, 3, 4, 5, 6])\n"
     ]
    }
   ],
   "source": [
    "#insertion sort\n",
    "def insertion_sort(a,n):\n",
    "    for i in range(1,n):\n",
    "        k=a[i]\n",
    "        j=i-1\n",
    "        while j>=0 and k<a[j]:\n",
    "            a[j+1]=a[j]\n",
    "            j=j-1\n",
    "        a[j+1]=k\n",
    "    print(a)\n",
    "b=array('i',[1,2,3,4,5,6,2,1,3])\n",
    "insertion_sort(b,len(b))"
   ]
  },
  {
   "cell_type": "code",
   "execution_count": 108,
   "id": "ff6bb7af-c6d7-469e-9185-6d3c4b25dd79",
   "metadata": {},
   "outputs": [
    {
     "name": "stdout",
     "output_type": "stream",
     "text": [
      "4\n"
     ]
    }
   ],
   "source": [
    "#Find the Missing Number: Given an array containing n distinct numbers taken from 0, 1, 2, ..., n, find the one that is missing from the array.\n",
    "a=array('i',[0,1,2,3,5])\n",
    "for i in range(len(a)):\n",
    "    if i!=a[i]:\n",
    "        print(i)"
   ]
  },
  {
   "cell_type": "code",
   "execution_count": 110,
   "id": "6d11ce3e-e1d3-43de-b754-a9a4748db839",
   "metadata": {},
   "outputs": [
    {
     "data": {
      "text/plain": [
       "4"
      ]
     },
     "execution_count": 110,
     "metadata": {},
     "output_type": "execute_result"
    }
   ],
   "source": [
    "def missing_num(a):\n",
    "    n=len(a)\n",
    "    exp=(n*(n+1))//2\n",
    "    act=sum(a)\n",
    "    return exp-act\n",
    "missing_num(a)"
   ]
  },
  {
   "cell_type": "code",
   "execution_count": 111,
   "id": "00149629-1d05-4625-844e-07027e68c9fb",
   "metadata": {},
   "outputs": [
    {
     "name": "stdout",
     "output_type": "stream",
     "text": [
      "Maximum subarray sum: 6\n"
     ]
    }
   ],
   "source": [
    "def max_subarray_sum(nums):\n",
    "    max_sum = float('-inf')\n",
    "    current_sum = 0\n",
    "\n",
    "    for num in nums:\n",
    "        current_sum = max(num, current_sum + num)\n",
    "        max_sum = max(max_sum, current_sum)\n",
    "\n",
    "    return max_sum\n",
    "\n",
    "# Example usage:\n",
    "nums = [-2, 1, -3, 4, -1, 2, 1, -5, 4]\n",
    "print(\"Maximum subarray sum:\", max_subarray_sum(nums))\n"
   ]
  },
  {
   "cell_type": "code",
   "execution_count": 112,
   "id": "26fbe27b-619f-461f-8e72-83f325706f97",
   "metadata": {},
   "outputs": [
    {
     "name": "stdout",
     "output_type": "stream",
     "text": [
      "Maximum subarray sum: 6\n",
      "Elements in the maximum subarray: [4, -1, 2, 1]\n"
     ]
    }
   ],
   "source": [
    "def max_subarray(nums):\n",
    "    max_sum = float('-inf')\n",
    "    current_sum = 0\n",
    "    start = 0\n",
    "    end = 0\n",
    "    max_start = 0\n",
    "    max_end = 0\n",
    "\n",
    "    for i, num in enumerate(nums):\n",
    "        if num > current_sum + num:\n",
    "            start = i\n",
    "            current_sum = num\n",
    "        else:\n",
    "            current_sum += num\n",
    "\n",
    "        if current_sum > max_sum:\n",
    "            max_sum = current_sum\n",
    "            max_start = start\n",
    "            max_end = i\n",
    "\n",
    "    return max_sum, nums[max_start:max_end+1]\n",
    "\n",
    "# Example usage:\n",
    "nums = [-2, 1, -3, 4, -1, 2, 1, -5, 4]\n",
    "max_sum, max_subarray_elements = max_subarray(nums)\n",
    "print(\"Maximum subarray sum:\", max_sum)\n",
    "print(\"Elements in the maximum subarray:\", max_subarray_elements)\n"
   ]
  },
  {
   "cell_type": "code",
   "execution_count": 113,
   "id": "ead1f1b1-f67f-4d92-affb-20f0b182f992",
   "metadata": {},
   "outputs": [
    {
     "name": "stdout",
     "output_type": "stream",
     "text": [
      "Indices of the two numbers: [0, 1]\n"
     ]
    }
   ],
   "source": [
    "def two_sum(nums, target):\n",
    "    num_indices = {}\n",
    "    for i, num in enumerate(nums):\n",
    "        complement = target - num\n",
    "        if complement in num_indices:\n",
    "            return [num_indices[complement], i]\n",
    "        num_indices[num] = i\n",
    "    return None\n",
    "\n",
    "# Example usage:\n",
    "nums = [2, 7, 11, 15]\n",
    "target = 9\n",
    "result = two_sum(nums, target)\n",
    "if result:\n",
    "    print(\"Indices of the two numbers:\", result)\n",
    "else:\n",
    "    print(\"No solution found.\")\n"
   ]
  },
  {
   "cell_type": "code",
   "execution_count": 126,
   "id": "1d90c33e-11f0-490d-a781-320acf3bc442",
   "metadata": {},
   "outputs": [
    {
     "name": "stdout",
     "output_type": "stream",
     "text": [
      "Indices of the two numbers: [0, 1]\n"
     ]
    }
   ],
   "source": [
    "def two_sum(nums, target):\n",
    "    num_indices = {}\n",
    "    for i, num in enumerate(nums):\n",
    "        complement = target - num\n",
    "        if complement in num_indices:\n",
    "            return [num_indices[complement], i]\n",
    "        num_indices[num] = i\n",
    "    \n",
    "    return None\n",
    "\n",
    "# Example usage:\n",
    "nums = [2, 7, 11, 15]\n",
    "target = 9\n",
    "result = two_sum(nums, target)\n",
    "if result:\n",
    "    print(\"Indices of the two numbers:\", result)\n",
    "else:\n",
    "    print(\"No solution found.\")\n"
   ]
  },
  {
   "cell_type": "code",
   "execution_count": 130,
   "id": "02dd1031-da5b-4fc5-8fb2-a6d9a153fc57",
   "metadata": {},
   "outputs": [
    {
     "name": "stdout",
     "output_type": "stream",
     "text": [
      "(3, 4)\n"
     ]
    }
   ],
   "source": [
    "#two sum problem\n",
    "def chkPair(A, size, x):\n",
    "    for i in range(0, size - 1):\n",
    "        for j in range(i + 1, size):\n",
    "            if (A[i] + A[j] == x):\n",
    "                return (i,j)\n",
    "    return 0\n",
    "A = [0, -1, 2, -3, 1]\n",
    "x = -2\n",
    "size = len(A)\n",
    "print(chkPair(A, size, x))"
   ]
  },
  {
   "cell_type": "code",
   "execution_count": 132,
   "id": "fe33fe20-e841-4582-ba2c-1abcf3d3a921",
   "metadata": {},
   "outputs": [
    {
     "name": "stdout",
     "output_type": "stream",
     "text": [
      "[1, 1, 2, 6]\n",
      "[24, 12, 4, 1]\n",
      "Output array: [24, 12, 8, 6]\n"
     ]
    }
   ],
   "source": [
    "#Product of Array Except Self: Given an array nums of n integers where n > 1, return an array output such that output[i] is equal to the product of all the elements of nums except nums[i].\n",
    "def product_except_self(nums):\n",
    "    n = len(nums)\n",
    "    left_products = [1] * n\n",
    "    right_products = [1] * n\n",
    "    output = [1] * n\n",
    "    \n",
    "    # Compute products of all elements to the left of each element\n",
    "    for i in range(1, n):\n",
    "        left_products[i] = left_products[i - 1] * nums[i - 1]\n",
    "    print(left_products)\n",
    "    \n",
    "    # Compute products of all elements to the right of each element\n",
    "    for i in range(n - 2, -1, -1):\n",
    "        right_products[i] = right_products[i + 1] * nums[i + 1]\n",
    "    print(right_products)\n",
    "    \n",
    "    # Multiply corresponding left and right products\n",
    "    for i in range(n):\n",
    "        output[i] = left_products[i] * right_products[i]\n",
    "    \n",
    "    return output\n",
    "\n",
    "# Example usage:\n",
    "nums = [1, 2, 3, 4]\n",
    "result = product_except_self(nums)\n",
    "print(\"Output array:\", result)\n"
   ]
  },
  {
   "cell_type": "code",
   "execution_count": 149,
   "id": "16aea2cd-0ebc-4205-8d25-9401d11be3b2",
   "metadata": {},
   "outputs": [
    {
     "data": {
      "text/plain": [
       "array('i', [3, 4, 5, 1, 2])"
      ]
     },
     "execution_count": 149,
     "metadata": {},
     "output_type": "execute_result"
    }
   ],
   "source": [
    "#rotate array by k steps \n",
    "a=array('i',[1,2,3,4,5])\n",
    "k=2\n",
    "def rotate(L, d, n):\n",
    "    \n",
    "    new_lis = []\n",
    "    new_lis = L[d:]+L[0:d]\n",
    "    return new_lis\n",
    "rotate(a,k,len(a))\n",
    "    "
   ]
  }
 ],
 "metadata": {
  "kernelspec": {
   "display_name": "Python 3 (ipykernel)",
   "language": "python",
   "name": "python3"
  },
  "language_info": {
   "codemirror_mode": {
    "name": "ipython",
    "version": 3
   },
   "file_extension": ".py",
   "mimetype": "text/x-python",
   "name": "python",
   "nbconvert_exporter": "python",
   "pygments_lexer": "ipython3",
   "version": "3.8.5"
  }
 },
 "nbformat": 4,
 "nbformat_minor": 5
}
